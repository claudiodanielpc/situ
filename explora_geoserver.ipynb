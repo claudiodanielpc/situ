{
 "cells": [
  {
   "metadata": {},
   "cell_type": "markdown",
   "source": [
    "## Identificación de capas disponibles en un servidor WFS\n",
    "\n",
    "El presente código sirve para poder identificar, desde el geoserver de la SEDATU, las capas disponibles en el servidor WFS."
   ],
   "id": "9f04956a511a4c9b"
  },
  {
   "cell_type": "code",
   "id": "initial_id",
   "metadata": {
    "collapsed": true,
    "ExecuteTime": {
     "end_time": "2024-12-12T00:07:39.936870Z",
     "start_time": "2024-12-12T00:07:37.669334Z"
    }
   },
   "source": [
    "import requests\n",
    "import pandas as pd\n",
    "import xml.etree.ElementTree as ET\n",
    "import os"
   ],
   "outputs": [],
   "execution_count": 1
  },
  {
   "metadata": {
    "ExecuteTime": {
     "end_time": "2024-12-12T00:07:39.962730Z",
     "start_time": "2024-12-12T00:07:39.957141Z"
    }
   },
   "cell_type": "code",
   "source": [
    "#url_xml=\"https://ide.sedatu.gob.mx/geoserver/ows?service=WMS&version=1.3.0&request=GetCapabilities\"\n",
    "url_xml2=\"https://ide.sedatu.gob.mx/geoserver/ows?service=WFS&version=1.0.0&request=GetCapabilities\""
   ],
   "id": "48a9ac7bfa2b7011",
   "outputs": [],
   "execution_count": 2
  },
  {
   "metadata": {
    "ExecuteTime": {
     "end_time": "2024-12-12T00:09:32.180088Z",
     "start_time": "2024-12-12T00:07:39.971377Z"
    }
   },
   "cell_type": "code",
   "source": "response = requests.get(url_xml2)",
   "id": "7c5ba0558ff43820",
   "outputs": [],
   "execution_count": 3
  },
  {
   "metadata": {
    "ExecuteTime": {
     "end_time": "2024-12-12T00:09:32.589118Z",
     "start_time": "2024-12-12T00:09:32.555673Z"
    }
   },
   "cell_type": "code",
   "source": [
    "#Extraer el contenido del xml\n",
    "root = ET.fromstring(response.content)\n",
    "root"
   ],
   "id": "9302ae53bb706568",
   "outputs": [
    {
     "data": {
      "text/plain": [
       "<Element '{http://www.opengis.net/wfs}WFS_Capabilities' at 0x000001E9D8001F80>"
      ]
     },
     "execution_count": 4,
     "metadata": {},
     "output_type": "execute_result"
    }
   ],
   "execution_count": 4
  },
  {
   "metadata": {
    "ExecuteTime": {
     "end_time": "2024-12-12T00:09:32.641062Z",
     "start_time": "2024-12-12T00:09:32.612784Z"
    }
   },
   "cell_type": "code",
   "source": [
    "namespace = {\"wfs\": \"http://www.opengis.net/wfs\"}\n",
    "\n",
    "layers = []\n",
    "for layer in root.findall(\".//wfs:FeatureType\", namespaces=namespace):\n",
    "    name = layer.find(\"wfs:Name\", namespaces=namespace)\n",
    "    title = layer.find(\"wfs:Title\", namespaces=namespace)\n",
    "    url = layer.find(\"wfs:OnlineResource\", namespaces=namespace)\n",
    "    if name is not None and title is not None:\n",
    "        layers.append((name.text, title.text))\n",
    "        \n",
    "print(\"Número de capas en el geoserver:\", len(layers))"
   ],
   "id": "5d14120a06026a1f",
   "outputs": [
    {
     "name": "stdout",
     "output_type": "stream",
     "text": [
      "Número de capas en el geoserver: 3067\n"
     ]
    }
   ],
   "execution_count": 5
  },
  {
   "metadata": {
    "ExecuteTime": {
     "end_time": "2024-12-12T00:09:32.694011Z",
     "start_time": "2024-12-12T00:09:32.657447Z"
    }
   },
   "cell_type": "code",
   "source": [
    "#Llevar la lista a una dataframe\n",
    "df = pd.DataFrame(layers, columns=[\"nombre\", \"titulo\"])\n",
    "df"
   ],
   "id": "80e4e3f305566bad",
   "outputs": [
    {
     "data": {
      "text/plain": [
       "                                                 nombre  \\\n",
       "0                       geonode:00_ageb_cpyv_inegi_2010   \n",
       "1                       geonode:00_ageb_cpyv_inegi_2020   \n",
       "2               geonode:00_ageb_eqmmovilidad_inegi_2020   \n",
       "3                geonode:00_ageb_pcuadrasconrampas_2020   \n",
       "4         geonode:00_ageb_pobdiurnaynocturna_inegi_2022   \n",
       "...                                                 ...   \n",
       "3062  geonode:zprimaria_c590cec20e9dfdc782212d38dd80...   \n",
       "3063        geonode:zs_0904c250eaa9ce223d35dcdf9dd3b9a3   \n",
       "3064                                geonode:zsecundaria   \n",
       "3065                               geonode:zsecundaria_   \n",
       "3066  geonode:zsecundaria_a5d66a0226540380c666aa6a7c...   \n",
       "\n",
       "                                            titulo  \n",
       "0                          00_ageb_cpyv_inegi_2010  \n",
       "1                          00_ageb_cpyv_inegi_2020  \n",
       "2                  00_ageb_eqmmovilidad_inegi_2020  \n",
       "3                   00_ageb_pcuadrasconrampas_2020  \n",
       "4            00_ageb_pobdiurnaynocturna_inegi_2022  \n",
       "...                                            ...  \n",
       "3062    zprimaria_c590cec20e9dfdc782212d38dd803e71  \n",
       "3063           zs_0904c250eaa9ce223d35dcdf9dd3b9a3  \n",
       "3064                                   zsecundaria  \n",
       "3065                                  zsecundaria_  \n",
       "3066  zsecundaria_a5d66a0226540380c666aa6a7c272e34  \n",
       "\n",
       "[3067 rows x 2 columns]"
      ],
      "text/html": [
       "<div>\n",
       "<style scoped>\n",
       "    .dataframe tbody tr th:only-of-type {\n",
       "        vertical-align: middle;\n",
       "    }\n",
       "\n",
       "    .dataframe tbody tr th {\n",
       "        vertical-align: top;\n",
       "    }\n",
       "\n",
       "    .dataframe thead th {\n",
       "        text-align: right;\n",
       "    }\n",
       "</style>\n",
       "<table border=\"1\" class=\"dataframe\">\n",
       "  <thead>\n",
       "    <tr style=\"text-align: right;\">\n",
       "      <th></th>\n",
       "      <th>nombre</th>\n",
       "      <th>titulo</th>\n",
       "    </tr>\n",
       "  </thead>\n",
       "  <tbody>\n",
       "    <tr>\n",
       "      <th>0</th>\n",
       "      <td>geonode:00_ageb_cpyv_inegi_2010</td>\n",
       "      <td>00_ageb_cpyv_inegi_2010</td>\n",
       "    </tr>\n",
       "    <tr>\n",
       "      <th>1</th>\n",
       "      <td>geonode:00_ageb_cpyv_inegi_2020</td>\n",
       "      <td>00_ageb_cpyv_inegi_2020</td>\n",
       "    </tr>\n",
       "    <tr>\n",
       "      <th>2</th>\n",
       "      <td>geonode:00_ageb_eqmmovilidad_inegi_2020</td>\n",
       "      <td>00_ageb_eqmmovilidad_inegi_2020</td>\n",
       "    </tr>\n",
       "    <tr>\n",
       "      <th>3</th>\n",
       "      <td>geonode:00_ageb_pcuadrasconrampas_2020</td>\n",
       "      <td>00_ageb_pcuadrasconrampas_2020</td>\n",
       "    </tr>\n",
       "    <tr>\n",
       "      <th>4</th>\n",
       "      <td>geonode:00_ageb_pobdiurnaynocturna_inegi_2022</td>\n",
       "      <td>00_ageb_pobdiurnaynocturna_inegi_2022</td>\n",
       "    </tr>\n",
       "    <tr>\n",
       "      <th>...</th>\n",
       "      <td>...</td>\n",
       "      <td>...</td>\n",
       "    </tr>\n",
       "    <tr>\n",
       "      <th>3062</th>\n",
       "      <td>geonode:zprimaria_c590cec20e9dfdc782212d38dd80...</td>\n",
       "      <td>zprimaria_c590cec20e9dfdc782212d38dd803e71</td>\n",
       "    </tr>\n",
       "    <tr>\n",
       "      <th>3063</th>\n",
       "      <td>geonode:zs_0904c250eaa9ce223d35dcdf9dd3b9a3</td>\n",
       "      <td>zs_0904c250eaa9ce223d35dcdf9dd3b9a3</td>\n",
       "    </tr>\n",
       "    <tr>\n",
       "      <th>3064</th>\n",
       "      <td>geonode:zsecundaria</td>\n",
       "      <td>zsecundaria</td>\n",
       "    </tr>\n",
       "    <tr>\n",
       "      <th>3065</th>\n",
       "      <td>geonode:zsecundaria_</td>\n",
       "      <td>zsecundaria_</td>\n",
       "    </tr>\n",
       "    <tr>\n",
       "      <th>3066</th>\n",
       "      <td>geonode:zsecundaria_a5d66a0226540380c666aa6a7c...</td>\n",
       "      <td>zsecundaria_a5d66a0226540380c666aa6a7c272e34</td>\n",
       "    </tr>\n",
       "  </tbody>\n",
       "</table>\n",
       "<p>3067 rows × 2 columns</p>\n",
       "</div>"
      ]
     },
     "execution_count": 6,
     "metadata": {},
     "output_type": "execute_result"
    }
   ],
   "execution_count": 6
  },
  {
   "metadata": {
    "ExecuteTime": {
     "end_time": "2024-12-12T00:09:34.477607Z",
     "start_time": "2024-12-12T00:09:32.736210Z"
    }
   },
   "cell_type": "code",
   "source": [
    "## Identificar cuáles capas corresponden al SITU\n",
    "\n",
    "url_capas=\"https://situ.sedatu.gob.mx/wa/publico/getCapas/\"\n",
    "response = requests.get(url_capas)\n",
    "response.status_code"
   ],
   "id": "8691914f40dacb54",
   "outputs": [
    {
     "data": {
      "text/plain": [
       "200"
      ]
     },
     "execution_count": 7,
     "metadata": {},
     "output_type": "execute_result"
    }
   ],
   "execution_count": 7
  },
  {
   "metadata": {
    "ExecuteTime": {
     "end_time": "2024-12-12T00:09:34.794014Z",
     "start_time": "2024-12-12T00:09:34.752861Z"
    }
   },
   "cell_type": "code",
   "source": [
    "capas_situ=pd.DataFrame(response.json()).rename(columns=str.lower)\n",
    "#Dejar solo la columna titulo\n",
    "capas_situ=capas_situ[[\"nombre_capa\"]]\n",
    "capas_situ"
   ],
   "id": "7c915b97f8617c9d",
   "outputs": [
    {
     "data": {
      "text/plain": [
       "                                            nombre_capa\n",
       "0                          geonode:a__27_EV_INEGI_20200\n",
       "1                     geonode:a__00_IGPOC_CENAPRED_2019\n",
       "2     geonode:EA_03_20067_Zonificacion_Secundaria_gr...\n",
       "3                           geonode:a__06_EV_INEGI_2020\n",
       "4                          geonode:a__22_MUN_INEGI_2020\n",
       "...                                                 ...\n",
       "2010  geonode:a__10_2_07101_Zonificacion_secundaria_...\n",
       "2011                     geonode:a__13_SOLARES_RAN_2020\n",
       "2012                       geonode:a__13_ENT_INEGI_2020\n",
       "2013                      geonode:a__00_MUN_SCINCE_2010\n",
       "2014        geonode:a__08_03_27005_Zona_amortiguamiento\n",
       "\n",
       "[2015 rows x 1 columns]"
      ],
      "text/html": [
       "<div>\n",
       "<style scoped>\n",
       "    .dataframe tbody tr th:only-of-type {\n",
       "        vertical-align: middle;\n",
       "    }\n",
       "\n",
       "    .dataframe tbody tr th {\n",
       "        vertical-align: top;\n",
       "    }\n",
       "\n",
       "    .dataframe thead th {\n",
       "        text-align: right;\n",
       "    }\n",
       "</style>\n",
       "<table border=\"1\" class=\"dataframe\">\n",
       "  <thead>\n",
       "    <tr style=\"text-align: right;\">\n",
       "      <th></th>\n",
       "      <th>nombre_capa</th>\n",
       "    </tr>\n",
       "  </thead>\n",
       "  <tbody>\n",
       "    <tr>\n",
       "      <th>0</th>\n",
       "      <td>geonode:a__27_EV_INEGI_20200</td>\n",
       "    </tr>\n",
       "    <tr>\n",
       "      <th>1</th>\n",
       "      <td>geonode:a__00_IGPOC_CENAPRED_2019</td>\n",
       "    </tr>\n",
       "    <tr>\n",
       "      <th>2</th>\n",
       "      <td>geonode:EA_03_20067_Zonificacion_Secundaria_gr...</td>\n",
       "    </tr>\n",
       "    <tr>\n",
       "      <th>3</th>\n",
       "      <td>geonode:a__06_EV_INEGI_2020</td>\n",
       "    </tr>\n",
       "    <tr>\n",
       "      <th>4</th>\n",
       "      <td>geonode:a__22_MUN_INEGI_2020</td>\n",
       "    </tr>\n",
       "    <tr>\n",
       "      <th>...</th>\n",
       "      <td>...</td>\n",
       "    </tr>\n",
       "    <tr>\n",
       "      <th>2010</th>\n",
       "      <td>geonode:a__10_2_07101_Zonificacion_secundaria_...</td>\n",
       "    </tr>\n",
       "    <tr>\n",
       "      <th>2011</th>\n",
       "      <td>geonode:a__13_SOLARES_RAN_2020</td>\n",
       "    </tr>\n",
       "    <tr>\n",
       "      <th>2012</th>\n",
       "      <td>geonode:a__13_ENT_INEGI_2020</td>\n",
       "    </tr>\n",
       "    <tr>\n",
       "      <th>2013</th>\n",
       "      <td>geonode:a__00_MUN_SCINCE_2010</td>\n",
       "    </tr>\n",
       "    <tr>\n",
       "      <th>2014</th>\n",
       "      <td>geonode:a__08_03_27005_Zona_amortiguamiento</td>\n",
       "    </tr>\n",
       "  </tbody>\n",
       "</table>\n",
       "<p>2015 rows × 1 columns</p>\n",
       "</div>"
      ]
     },
     "execution_count": 8,
     "metadata": {},
     "output_type": "execute_result"
    }
   ],
   "execution_count": 8
  },
  {
   "metadata": {
    "ExecuteTime": {
     "end_time": "2024-12-12T00:09:34.857421Z",
     "start_time": "2024-12-12T00:09:34.831325Z"
    }
   },
   "cell_type": "code",
   "source": [
    "#Corroborar si las capas del SITU están en la lista de capas del geoserver\n",
    "capas_finales=pd.merge(capas_situ,df,how=\"inner\",left_on=\"nombre_capa\",right_on=\"nombre\")\n",
    "print(\"Diferencia entre capas encontradas en el SITU y las disponibles en el geoserver:\",len(capas_situ)-len(capas_finales))"
   ],
   "id": "636fcd153144ac84",
   "outputs": [
    {
     "name": "stdout",
     "output_type": "stream",
     "text": [
      "Diferencia entre capas encontradas en el SITU y las disponibles en el geoserver: 7\n"
     ]
    }
   ],
   "execution_count": 9
  },
  {
   "metadata": {
    "ExecuteTime": {
     "end_time": "2024-12-12T00:09:35.058988Z",
     "start_time": "2024-12-12T00:09:35.046289Z"
    }
   },
   "cell_type": "code",
   "source": [
    "#Listado de capas no encontradas\n",
    "capas_situ[~capas_situ[\"nombre_capa\"].isin(capas_finales[\"nombre_capa\"])]"
   ],
   "id": "17753cf4435f44f9",
   "outputs": [
    {
     "data": {
      "text/plain": [
       "                             nombre_capa\n",
       "63         geonode:RegionesBienestar4326\n",
       "174   geonode:juarez_mus_centrogeo_2022c\n",
       "276           geonode:inegi_RH00_ha_4326\n",
       "505               geonode:MOT_ZNVM_corte\n",
       "602      geonode:a__18_INV_FM_INEGI_2016\n",
       "922          geonode:a__00CatLoc_042021a\n",
       "1903                     Sin Información"
      ],
      "text/html": [
       "<div>\n",
       "<style scoped>\n",
       "    .dataframe tbody tr th:only-of-type {\n",
       "        vertical-align: middle;\n",
       "    }\n",
       "\n",
       "    .dataframe tbody tr th {\n",
       "        vertical-align: top;\n",
       "    }\n",
       "\n",
       "    .dataframe thead th {\n",
       "        text-align: right;\n",
       "    }\n",
       "</style>\n",
       "<table border=\"1\" class=\"dataframe\">\n",
       "  <thead>\n",
       "    <tr style=\"text-align: right;\">\n",
       "      <th></th>\n",
       "      <th>nombre_capa</th>\n",
       "    </tr>\n",
       "  </thead>\n",
       "  <tbody>\n",
       "    <tr>\n",
       "      <th>63</th>\n",
       "      <td>geonode:RegionesBienestar4326</td>\n",
       "    </tr>\n",
       "    <tr>\n",
       "      <th>174</th>\n",
       "      <td>geonode:juarez_mus_centrogeo_2022c</td>\n",
       "    </tr>\n",
       "    <tr>\n",
       "      <th>276</th>\n",
       "      <td>geonode:inegi_RH00_ha_4326</td>\n",
       "    </tr>\n",
       "    <tr>\n",
       "      <th>505</th>\n",
       "      <td>geonode:MOT_ZNVM_corte</td>\n",
       "    </tr>\n",
       "    <tr>\n",
       "      <th>602</th>\n",
       "      <td>geonode:a__18_INV_FM_INEGI_2016</td>\n",
       "    </tr>\n",
       "    <tr>\n",
       "      <th>922</th>\n",
       "      <td>geonode:a__00CatLoc_042021a</td>\n",
       "    </tr>\n",
       "    <tr>\n",
       "      <th>1903</th>\n",
       "      <td>Sin Información</td>\n",
       "    </tr>\n",
       "  </tbody>\n",
       "</table>\n",
       "</div>"
      ]
     },
     "execution_count": 10,
     "metadata": {},
     "output_type": "execute_result"
    }
   ],
   "execution_count": 10
  },
  {
   "metadata": {},
   "cell_type": "markdown",
   "source": [
    "### Crear proceso para descarga de las capas\n",
    "\n",
    "Se crea una función para descargar las capas con la finalidad de realizar una BD local de las capas disponibles en el servidor WFS."
   ],
   "id": "6f5669f777374e"
  },
  {
   "metadata": {
    "ExecuteTime": {
     "end_time": "2024-12-12T00:09:35.179892Z",
     "start_time": "2024-12-12T00:09:35.174344Z"
    }
   },
   "cell_type": "code",
   "source": [
    "def descarga_capa(df):\n",
    "    base_url = \"https://ide.sedatu.gob.mx/geoserver/ows\"  #url de la IDE de SEDATU\n",
    "\n",
    "   #Proceso iterativo sobre la df \n",
    "    for _, row in df.iterrows():\n",
    "        layer_name = row[\"nombre\"]  \n",
    "        layer_title = row[\"titulo\"]  \n",
    "\n",
    "       \n",
    "        params = {\n",
    "            \"service\": \"WFS\",\n",
    "            \"version\": \"2.0.0\",\n",
    "            \"request\": \"GetFeature\",\n",
    "            \"typeName\": layer_name,\n",
    "            \"outputFormat\": \"application/json\", \n",
    "        }\n",
    "\n",
    "      \n",
    "        response = requests.get(base_url, params=params)\n",
    "\n",
    "       \n",
    "        if response.status_code == 200:\n",
    "          \n",
    "            filename = f\"{layer_title}.geojson\"\n",
    "            with open(filename, \"w\", encoding=\"utf-8\") as f:\n",
    "                f.write(response.text)\n",
    "            print(f\"Capa descargada '{layer_title}' como '{filename}'\")\n",
    "        else:\n",
    "            print(f\"Fallo al intentar descargar capa '{layer_title}'. Status code: {response.status_code}\")"
   ],
   "id": "9f19dd2b7cf476f8",
   "outputs": [],
   "execution_count": 11
  },
  {
   "metadata": {
    "ExecuteTime": {
     "end_time": "2024-12-12T00:09:38.392925Z",
     "start_time": "2024-12-12T00:09:35.284327Z"
    }
   },
   "cell_type": "code",
   "source": [
    "#Ejemplo: muestra de 1\n",
    "descarga_capa(capas_finales.sample(1))"
   ],
   "id": "19a41cd799825f26",
   "outputs": [
    {
     "name": "stdout",
     "output_type": "stream",
     "text": [
      "Capa descargada 'Localidades urbanas y rurales amanzanadas Mexico Marco Geoestadistico 2016' como 'Localidades urbanas y rurales amanzanadas Mexico Marco Geoestadistico 2016.geojson'\n"
     ]
    }
   ],
   "execution_count": 12
  },
  {
   "metadata": {
    "ExecuteTime": {
     "end_time": "2024-12-12T00:09:38.423494Z",
     "start_time": "2024-12-12T00:09:38.417583Z"
    }
   },
   "cell_type": "code",
   "source": "os.getcwd()",
   "id": "290de385801a3d64",
   "outputs": [
    {
     "data": {
      "text/plain": [
       "'C:\\\\Users\\\\claud\\\\Documents\\\\GitHub\\\\situ'"
      ]
     },
     "execution_count": 13,
     "metadata": {},
     "output_type": "execute_result"
    }
   ],
   "execution_count": 13
  }
 ],
 "metadata": {
  "kernelspec": {
   "display_name": "Python 3",
   "language": "python",
   "name": "python3"
  },
  "language_info": {
   "codemirror_mode": {
    "name": "ipython",
    "version": 2
   },
   "file_extension": ".py",
   "mimetype": "text/x-python",
   "name": "python",
   "nbconvert_exporter": "python",
   "pygments_lexer": "ipython2",
   "version": "2.7.6"
  }
 },
 "nbformat": 4,
 "nbformat_minor": 5
}
