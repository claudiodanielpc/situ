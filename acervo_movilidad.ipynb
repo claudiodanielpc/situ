{
 "cells": [
  {
   "metadata": {},
   "cell_type": "markdown",
   "source": [
    "### Exploración de la API del módulo de movilidad de la SEDATU\n",
    "\n",
    "El presente código tiene como objetivo explorar la API del módulo de movilidad de la SEDATU, con el fin de identificar las capas de información y los indicadores disponibles."
   ],
   "id": "8be0e12a2c7f7589"
  },
  {
   "cell_type": "code",
   "id": "initial_id",
   "metadata": {
    "collapsed": true,
    "ExecuteTime": {
     "end_time": "2024-12-19T23:40:23.628536Z",
     "start_time": "2024-12-19T23:40:22.737127Z"
    }
   },
   "source": [
    "import pandas as pd\n",
    "import requests"
   ],
   "outputs": [],
   "execution_count": 1
  },
  {
   "metadata": {
    "ExecuteTime": {
     "end_time": "2024-12-19T23:40:23.637707Z",
     "start_time": "2024-12-19T23:40:23.634662Z"
    }
   },
   "cell_type": "code",
   "source": "url_movilidad=\"https://situ.sedatu.gob.mx/api-movilidad/api/v1/filters/categories\"",
   "id": "c6b2b768d00f0769",
   "outputs": [],
   "execution_count": 2
  },
  {
   "metadata": {
    "ExecuteTime": {
     "end_time": "2024-12-19T23:40:24.505104Z",
     "start_time": "2024-12-19T23:40:23.893647Z"
    }
   },
   "cell_type": "code",
   "source": [
    "response = requests.get(url_movilidad)\n",
    "response.status_code"
   ],
   "id": "e5702f8a317f45ab",
   "outputs": [
    {
     "data": {
      "text/plain": [
       "200"
      ]
     },
     "execution_count": 3,
     "metadata": {},
     "output_type": "execute_result"
    }
   ],
   "execution_count": 3
  },
  {
   "metadata": {
    "ExecuteTime": {
     "end_time": "2024-12-19T23:43:29.727881Z",
     "start_time": "2024-12-19T23:43:29.700234Z"
    }
   },
   "cell_type": "code",
   "source": [
    "data=response.json()\n",
    "len(data)"
   ],
   "id": "32be932855b3632d",
   "outputs": [
    {
     "data": {
      "text/plain": [
       "2"
      ]
     },
     "execution_count": 6,
     "metadata": {},
     "output_type": "execute_result"
    }
   ],
   "execution_count": 6
  },
  {
   "metadata": {
    "ExecuteTime": {
     "end_time": "2024-12-20T00:44:21.596568Z",
     "start_time": "2024-12-20T00:44:21.583703Z"
    }
   },
   "cell_type": "code",
   "source": [
    "#Exploración de la estructura de la respuesta\n",
    "data.keys()"
   ],
   "id": "75e33a447128b623",
   "outputs": [
    {
     "data": {
      "text/plain": [
       "dict_keys(['categories', 'indicators'])"
      ]
     },
     "execution_count": 130,
     "metadata": {},
     "output_type": "execute_result"
    }
   ],
   "execution_count": 130
  },
  {
   "metadata": {
    "ExecuteTime": {
     "end_time": "2024-12-20T00:06:52.590678Z",
     "start_time": "2024-12-20T00:06:52.580478Z"
    }
   },
   "cell_type": "code",
   "source": "len(data[\"categories\"])",
   "id": "4b0591398ae6d6be",
   "outputs": [
    {
     "data": {
      "text/plain": [
       "10"
      ]
     },
     "execution_count": 59,
     "metadata": {},
     "output_type": "execute_result"
    }
   ],
   "execution_count": 59
  },
  {
   "metadata": {},
   "cell_type": "markdown",
   "source": "#### Exploración de las categorías",
   "id": "b65ee700cb38b0bd"
  },
  {
   "metadata": {
    "ExecuteTime": {
     "end_time": "2024-12-20T00:15:27.821222Z",
     "start_time": "2024-12-20T00:15:27.813919Z"
    }
   },
   "cell_type": "code",
   "source": "data['categories'][2][\"children\"][0][\"children\"][0]",
   "id": "bf639477750a9def",
   "outputs": [
    {
     "data": {
      "text/plain": [
       "{'id': 7,\n",
       " 'is_layer': True,\n",
       " 'layer_id': 3962,\n",
       " 'name': 'Biciestacionamientos por AGEB, 2020',\n",
       " 'layer_name': '00_ageb_eqmmovilidad_inegi_2020',\n",
       " 'nom_var': 'estabici_c',\n",
       " 'nom_sld': 'Porcentaje de manzanas servidas con rampas, 2020',\n",
       " 'random_id': 'iDVzusy7FB',\n",
       " 'children': []}"
      ]
     },
     "execution_count": 110,
     "metadata": {},
     "output_type": "execute_result"
    }
   ],
   "execution_count": 110
  },
  {
   "metadata": {
    "ExecuteTime": {
     "end_time": "2024-12-20T00:20:22.993391Z",
     "start_time": "2024-12-20T00:20:22.970832Z"
    }
   },
   "cell_type": "code",
   "source": [
    "def extract_layers(data):\n",
    "    layers = []  # Lista para almacenar la información\n",
    "\n",
    "    def recursive_extraction(item):\n",
    "        \n",
    "        if isinstance(item, dict):  \n",
    "            \n",
    "            if item.get(\"is_layer\", False):\n",
    "                layers.append(item)\n",
    "\n",
    "            \n",
    "            if \"children\" in item and isinstance(item[\"children\"], list):\n",
    "                for child in item[\"children\"]:\n",
    "                    recursive_extraction(child)\n",
    "\n",
    "        elif isinstance(item, list):\n",
    "            for sub_item in item:\n",
    "                recursive_extraction(sub_item)\n",
    "\n",
    "    recursive_extraction(data)\n",
    "    return layers"
   ],
   "id": "56395d2c2e378909",
   "outputs": [],
   "execution_count": 118
  },
  {
   "metadata": {},
   "cell_type": "code",
   "outputs": [],
   "execution_count": null,
   "source": "all_layers = extract_layers(data[\"categories\"])",
   "id": "f4a9bb0eefdd34b3"
  },
  {
   "metadata": {
    "ExecuteTime": {
     "end_time": "2024-12-20T00:47:44.725605Z",
     "start_time": "2024-12-20T00:47:44.699956Z"
    }
   },
   "cell_type": "code",
   "source": [
    "layers_df = pd.DataFrame(all_layers)\n",
    "layers_df.sort_values(\"name\", inplace=True)\n",
    "print(\"Número de capas:\", len(layers_df))\n",
    "layers_df"
   ],
   "id": "90dfc73786ed438e",
   "outputs": [
    {
     "name": "stdout",
     "output_type": "stream",
     "text": [
      "Número de capas: 4788\n"
     ]
    },
    {
     "data": {
      "text/plain": [
       "        id  is_layer  layer_id                                           name  \\\n",
       "6     10.0      True     612.0                              AGEB rurales 2020   \n",
       "7      9.0      True     612.0                              AGEB urbanas 2020   \n",
       "4     13.0      True     644.0     Accesibilidad a carretera pavimentada 2018   \n",
       "5     14.0      True     645.0     Accesibilidad a carretera pavimentada 2020   \n",
       "119  105.0      True    4134.0  Accesibilidad de población rural a carreteras   \n",
       "..     ...       ...       ...                                            ...   \n",
       "120  129.0      True    4281.0                   Área en hectáreas de la AGEB   \n",
       "27    28.0      True     648.0          Índice de Marginación por Estado 2015   \n",
       "28    30.0      True     651.0       Índice de Marginación por municipio 2010   \n",
       "29    29.0      True     649.0       Índice de Marginación por municipio 2015   \n",
       "30    27.0      True     650.0       Índice de Marginación por municipio 2020   \n",
       "\n",
       "                                  layer_name  nom_var  \\\n",
       "6                     a__00_AGEBR_INEGI_2020     None   \n",
       "7                     a__00_AGEBU_INEGI_2020     None   \n",
       "4                    a__00_GACP_CONEVAL_2018     None   \n",
       "5                    a__00_GACP_CONEVAL_2021     None   \n",
       "119  00_lpr_pobcercaniacarreteras_inegi_2022   pobtot   \n",
       "..                                       ...      ...   \n",
       "120    00_ageb_pobdiurnaynocturna_inegi_2022  area_ha   \n",
       "27                     a__00_IME_CONAPO_2015     None   \n",
       "28                     a__00_IMU_CONAPO_2010     None   \n",
       "29                     a__00_IMM_CONAPO_2015     None   \n",
       "30                     a__00_IMM_CONAPO_2020     None   \n",
       "\n",
       "                                               nom_sld   random_id children  \n",
       "6                                                 None  zk4kwO8TLu       []  \n",
       "7                                                 None  ErIJBZyT89       []  \n",
       "4                                                 None  dW5JZd2Fdc       []  \n",
       "5                                                 None  lMM6bMbzqD       []  \n",
       "119  Indicador de las localidades rurales que se en...  3UhnjcaQOT       []  \n",
       "..                                                 ...         ...      ...  \n",
       "120   Porcentaje de manzanas servidas con rampas, 2020  Xo09afGvbb       []  \n",
       "27                                                None  1FZ3hZoRoC       []  \n",
       "28                                                None  xBfR79tn3W       []  \n",
       "29                                                None  07wJBOXsP9       []  \n",
       "30                                                None  0O4k27RK69       []  \n",
       "\n",
       "[4788 rows x 9 columns]"
      ],
      "text/html": [
       "<div>\n",
       "<style scoped>\n",
       "    .dataframe tbody tr th:only-of-type {\n",
       "        vertical-align: middle;\n",
       "    }\n",
       "\n",
       "    .dataframe tbody tr th {\n",
       "        vertical-align: top;\n",
       "    }\n",
       "\n",
       "    .dataframe thead th {\n",
       "        text-align: right;\n",
       "    }\n",
       "</style>\n",
       "<table border=\"1\" class=\"dataframe\">\n",
       "  <thead>\n",
       "    <tr style=\"text-align: right;\">\n",
       "      <th></th>\n",
       "      <th>id</th>\n",
       "      <th>is_layer</th>\n",
       "      <th>layer_id</th>\n",
       "      <th>name</th>\n",
       "      <th>layer_name</th>\n",
       "      <th>nom_var</th>\n",
       "      <th>nom_sld</th>\n",
       "      <th>random_id</th>\n",
       "      <th>children</th>\n",
       "    </tr>\n",
       "  </thead>\n",
       "  <tbody>\n",
       "    <tr>\n",
       "      <th>6</th>\n",
       "      <td>10.0</td>\n",
       "      <td>True</td>\n",
       "      <td>612.0</td>\n",
       "      <td>AGEB rurales 2020</td>\n",
       "      <td>a__00_AGEBR_INEGI_2020</td>\n",
       "      <td>None</td>\n",
       "      <td>None</td>\n",
       "      <td>zk4kwO8TLu</td>\n",
       "      <td>[]</td>\n",
       "    </tr>\n",
       "    <tr>\n",
       "      <th>7</th>\n",
       "      <td>9.0</td>\n",
       "      <td>True</td>\n",
       "      <td>612.0</td>\n",
       "      <td>AGEB urbanas 2020</td>\n",
       "      <td>a__00_AGEBU_INEGI_2020</td>\n",
       "      <td>None</td>\n",
       "      <td>None</td>\n",
       "      <td>ErIJBZyT89</td>\n",
       "      <td>[]</td>\n",
       "    </tr>\n",
       "    <tr>\n",
       "      <th>4</th>\n",
       "      <td>13.0</td>\n",
       "      <td>True</td>\n",
       "      <td>644.0</td>\n",
       "      <td>Accesibilidad a carretera pavimentada 2018</td>\n",
       "      <td>a__00_GACP_CONEVAL_2018</td>\n",
       "      <td>None</td>\n",
       "      <td>None</td>\n",
       "      <td>dW5JZd2Fdc</td>\n",
       "      <td>[]</td>\n",
       "    </tr>\n",
       "    <tr>\n",
       "      <th>5</th>\n",
       "      <td>14.0</td>\n",
       "      <td>True</td>\n",
       "      <td>645.0</td>\n",
       "      <td>Accesibilidad a carretera pavimentada 2020</td>\n",
       "      <td>a__00_GACP_CONEVAL_2021</td>\n",
       "      <td>None</td>\n",
       "      <td>None</td>\n",
       "      <td>lMM6bMbzqD</td>\n",
       "      <td>[]</td>\n",
       "    </tr>\n",
       "    <tr>\n",
       "      <th>119</th>\n",
       "      <td>105.0</td>\n",
       "      <td>True</td>\n",
       "      <td>4134.0</td>\n",
       "      <td>Accesibilidad de población rural a carreteras</td>\n",
       "      <td>00_lpr_pobcercaniacarreteras_inegi_2022</td>\n",
       "      <td>pobtot</td>\n",
       "      <td>Indicador de las localidades rurales que se en...</td>\n",
       "      <td>3UhnjcaQOT</td>\n",
       "      <td>[]</td>\n",
       "    </tr>\n",
       "    <tr>\n",
       "      <th>...</th>\n",
       "      <td>...</td>\n",
       "      <td>...</td>\n",
       "      <td>...</td>\n",
       "      <td>...</td>\n",
       "      <td>...</td>\n",
       "      <td>...</td>\n",
       "      <td>...</td>\n",
       "      <td>...</td>\n",
       "      <td>...</td>\n",
       "    </tr>\n",
       "    <tr>\n",
       "      <th>120</th>\n",
       "      <td>129.0</td>\n",
       "      <td>True</td>\n",
       "      <td>4281.0</td>\n",
       "      <td>Área en hectáreas de la AGEB</td>\n",
       "      <td>00_ageb_pobdiurnaynocturna_inegi_2022</td>\n",
       "      <td>area_ha</td>\n",
       "      <td>Porcentaje de manzanas servidas con rampas, 2020</td>\n",
       "      <td>Xo09afGvbb</td>\n",
       "      <td>[]</td>\n",
       "    </tr>\n",
       "    <tr>\n",
       "      <th>27</th>\n",
       "      <td>28.0</td>\n",
       "      <td>True</td>\n",
       "      <td>648.0</td>\n",
       "      <td>Índice de Marginación por Estado 2015</td>\n",
       "      <td>a__00_IME_CONAPO_2015</td>\n",
       "      <td>None</td>\n",
       "      <td>None</td>\n",
       "      <td>1FZ3hZoRoC</td>\n",
       "      <td>[]</td>\n",
       "    </tr>\n",
       "    <tr>\n",
       "      <th>28</th>\n",
       "      <td>30.0</td>\n",
       "      <td>True</td>\n",
       "      <td>651.0</td>\n",
       "      <td>Índice de Marginación por municipio 2010</td>\n",
       "      <td>a__00_IMU_CONAPO_2010</td>\n",
       "      <td>None</td>\n",
       "      <td>None</td>\n",
       "      <td>xBfR79tn3W</td>\n",
       "      <td>[]</td>\n",
       "    </tr>\n",
       "    <tr>\n",
       "      <th>29</th>\n",
       "      <td>29.0</td>\n",
       "      <td>True</td>\n",
       "      <td>649.0</td>\n",
       "      <td>Índice de Marginación por municipio 2015</td>\n",
       "      <td>a__00_IMM_CONAPO_2015</td>\n",
       "      <td>None</td>\n",
       "      <td>None</td>\n",
       "      <td>07wJBOXsP9</td>\n",
       "      <td>[]</td>\n",
       "    </tr>\n",
       "    <tr>\n",
       "      <th>30</th>\n",
       "      <td>27.0</td>\n",
       "      <td>True</td>\n",
       "      <td>650.0</td>\n",
       "      <td>Índice de Marginación por municipio 2020</td>\n",
       "      <td>a__00_IMM_CONAPO_2020</td>\n",
       "      <td>None</td>\n",
       "      <td>None</td>\n",
       "      <td>0O4k27RK69</td>\n",
       "      <td>[]</td>\n",
       "    </tr>\n",
       "  </tbody>\n",
       "</table>\n",
       "<p>4788 rows × 9 columns</p>\n",
       "</div>"
      ]
     },
     "execution_count": 131,
     "metadata": {},
     "output_type": "execute_result"
    }
   ],
   "execution_count": 131
  },
  {
   "metadata": {},
   "cell_type": "markdown",
   "source": "### Indicadores",
   "id": "b4a0df154e101576"
  },
  {
   "metadata": {
    "ExecuteTime": {
     "end_time": "2024-12-20T00:36:35.510832Z",
     "start_time": "2024-12-20T00:36:35.494072Z"
    }
   },
   "cell_type": "code",
   "source": "indica=extract_layers(data[\"indicators\"])",
   "id": "363bcc97a565cca9",
   "outputs": [],
   "execution_count": 126
  },
  {
   "metadata": {
    "ExecuteTime": {
     "end_time": "2024-12-20T00:47:58.616421Z",
     "start_time": "2024-12-20T00:47:58.596730Z"
    }
   },
   "cell_type": "code",
   "source": [
    "indica_df=pd.DataFrame(indica)\n",
    "indica_df.sort_values(\"name\", inplace=True)\n",
    "print(\"Número de indicadores:\", len(indica_df))\n",
    "indica_df"
   ],
   "id": "8ebc92781d72143e",
   "outputs": [
    {
     "name": "stdout",
     "output_type": "stream",
     "text": [
      "Número de indicadores: 890\n"
     ]
    },
    {
     "data": {
      "text/plain": [
       "     id  is_layer  layer_id                            name  \\\n",
       "101  37      True      4282  Automóviles involucrados, 2020   \n",
       "102  38      True      4282  Automóviles involucrados, 2020   \n",
       "100  36      True      4282  Automóviles involucrados, 2020   \n",
       "99   35      True      4282  Automóviles involucrados, 2020   \n",
       "98   34      True      4282  Automóviles involucrados, 2020   \n",
       "..   ..       ...       ...                             ...   \n",
       "59    8      True      3871      Índice de morbilidad, 2020   \n",
       "63   12      True      3872      Índice de morbilidad, 2021   \n",
       "54    3      True      3870      Índice de mortalidad, 2019   \n",
       "58    7      True      3871      Índice de mortalidad, 2020   \n",
       "62   11      True      3872      Índice de mortalidad, 2021   \n",
       "\n",
       "                                 layer_name      nom_var   random_id  \\\n",
       "101                  00_mun_atus_inegi_2020   pbicicleta  P6aqxtSLsn   \n",
       "102                  00_mun_atus_inegi_2020   potrovehic  ofla3y83xn   \n",
       "100                  00_mun_atus_inegi_2020  pmotociclet  xokt5BD9Bw   \n",
       "99                   00_mun_atus_inegi_2020   pferrocarr  BTVJM8cAq3   \n",
       "98                   00_mun_atus_inegi_2020     ptractor  ceVpk4Kamr   \n",
       "..                                      ...          ...         ...   \n",
       "59   00_ent_accidentesyvehiculos_inegi_2020   acth100mvh  TT7FWFVdYq   \n",
       "63   00_ent_accidentesyvehiculos_inegi_2021   acth100mvh  4bsiaks1SP   \n",
       "54   00_ent_accidentesyvehiculos_inegi_2019   actm100mvh  eNPnRLRmQf   \n",
       "58   00_ent_accidentesyvehiculos_inegi_2020   actm100mvh  DQvQCSFZrx   \n",
       "62   00_ent_accidentesyvehiculos_inegi_2021   actm100mvh  VdfbcYRIad   \n",
       "\n",
       "                            nom_sld  \n",
       "101    Densidad de siniestros, 2020  \n",
       "102    Densidad de siniestros, 2020  \n",
       "100    Densidad de siniestros, 2020  \n",
       "99     Densidad de siniestros, 2020  \n",
       "98     Densidad de siniestros, 2020  \n",
       "..                              ...  \n",
       "59   Índice de accidentalidad, 2020  \n",
       "63   Índice de accidentalidad, 2021  \n",
       "54   Índice de accidentalidad, 2019  \n",
       "58   Índice de accidentalidad, 2020  \n",
       "62   Índice de accidentalidad, 2021  \n",
       "\n",
       "[890 rows x 8 columns]"
      ],
      "text/html": [
       "<div>\n",
       "<style scoped>\n",
       "    .dataframe tbody tr th:only-of-type {\n",
       "        vertical-align: middle;\n",
       "    }\n",
       "\n",
       "    .dataframe tbody tr th {\n",
       "        vertical-align: top;\n",
       "    }\n",
       "\n",
       "    .dataframe thead th {\n",
       "        text-align: right;\n",
       "    }\n",
       "</style>\n",
       "<table border=\"1\" class=\"dataframe\">\n",
       "  <thead>\n",
       "    <tr style=\"text-align: right;\">\n",
       "      <th></th>\n",
       "      <th>id</th>\n",
       "      <th>is_layer</th>\n",
       "      <th>layer_id</th>\n",
       "      <th>name</th>\n",
       "      <th>layer_name</th>\n",
       "      <th>nom_var</th>\n",
       "      <th>random_id</th>\n",
       "      <th>nom_sld</th>\n",
       "    </tr>\n",
       "  </thead>\n",
       "  <tbody>\n",
       "    <tr>\n",
       "      <th>101</th>\n",
       "      <td>37</td>\n",
       "      <td>True</td>\n",
       "      <td>4282</td>\n",
       "      <td>Automóviles involucrados, 2020</td>\n",
       "      <td>00_mun_atus_inegi_2020</td>\n",
       "      <td>pbicicleta</td>\n",
       "      <td>P6aqxtSLsn</td>\n",
       "      <td>Densidad de siniestros, 2020</td>\n",
       "    </tr>\n",
       "    <tr>\n",
       "      <th>102</th>\n",
       "      <td>38</td>\n",
       "      <td>True</td>\n",
       "      <td>4282</td>\n",
       "      <td>Automóviles involucrados, 2020</td>\n",
       "      <td>00_mun_atus_inegi_2020</td>\n",
       "      <td>potrovehic</td>\n",
       "      <td>ofla3y83xn</td>\n",
       "      <td>Densidad de siniestros, 2020</td>\n",
       "    </tr>\n",
       "    <tr>\n",
       "      <th>100</th>\n",
       "      <td>36</td>\n",
       "      <td>True</td>\n",
       "      <td>4282</td>\n",
       "      <td>Automóviles involucrados, 2020</td>\n",
       "      <td>00_mun_atus_inegi_2020</td>\n",
       "      <td>pmotociclet</td>\n",
       "      <td>xokt5BD9Bw</td>\n",
       "      <td>Densidad de siniestros, 2020</td>\n",
       "    </tr>\n",
       "    <tr>\n",
       "      <th>99</th>\n",
       "      <td>35</td>\n",
       "      <td>True</td>\n",
       "      <td>4282</td>\n",
       "      <td>Automóviles involucrados, 2020</td>\n",
       "      <td>00_mun_atus_inegi_2020</td>\n",
       "      <td>pferrocarr</td>\n",
       "      <td>BTVJM8cAq3</td>\n",
       "      <td>Densidad de siniestros, 2020</td>\n",
       "    </tr>\n",
       "    <tr>\n",
       "      <th>98</th>\n",
       "      <td>34</td>\n",
       "      <td>True</td>\n",
       "      <td>4282</td>\n",
       "      <td>Automóviles involucrados, 2020</td>\n",
       "      <td>00_mun_atus_inegi_2020</td>\n",
       "      <td>ptractor</td>\n",
       "      <td>ceVpk4Kamr</td>\n",
       "      <td>Densidad de siniestros, 2020</td>\n",
       "    </tr>\n",
       "    <tr>\n",
       "      <th>...</th>\n",
       "      <td>...</td>\n",
       "      <td>...</td>\n",
       "      <td>...</td>\n",
       "      <td>...</td>\n",
       "      <td>...</td>\n",
       "      <td>...</td>\n",
       "      <td>...</td>\n",
       "      <td>...</td>\n",
       "    </tr>\n",
       "    <tr>\n",
       "      <th>59</th>\n",
       "      <td>8</td>\n",
       "      <td>True</td>\n",
       "      <td>3871</td>\n",
       "      <td>Índice de morbilidad, 2020</td>\n",
       "      <td>00_ent_accidentesyvehiculos_inegi_2020</td>\n",
       "      <td>acth100mvh</td>\n",
       "      <td>TT7FWFVdYq</td>\n",
       "      <td>Índice de accidentalidad, 2020</td>\n",
       "    </tr>\n",
       "    <tr>\n",
       "      <th>63</th>\n",
       "      <td>12</td>\n",
       "      <td>True</td>\n",
       "      <td>3872</td>\n",
       "      <td>Índice de morbilidad, 2021</td>\n",
       "      <td>00_ent_accidentesyvehiculos_inegi_2021</td>\n",
       "      <td>acth100mvh</td>\n",
       "      <td>4bsiaks1SP</td>\n",
       "      <td>Índice de accidentalidad, 2021</td>\n",
       "    </tr>\n",
       "    <tr>\n",
       "      <th>54</th>\n",
       "      <td>3</td>\n",
       "      <td>True</td>\n",
       "      <td>3870</td>\n",
       "      <td>Índice de mortalidad, 2019</td>\n",
       "      <td>00_ent_accidentesyvehiculos_inegi_2019</td>\n",
       "      <td>actm100mvh</td>\n",
       "      <td>eNPnRLRmQf</td>\n",
       "      <td>Índice de accidentalidad, 2019</td>\n",
       "    </tr>\n",
       "    <tr>\n",
       "      <th>58</th>\n",
       "      <td>7</td>\n",
       "      <td>True</td>\n",
       "      <td>3871</td>\n",
       "      <td>Índice de mortalidad, 2020</td>\n",
       "      <td>00_ent_accidentesyvehiculos_inegi_2020</td>\n",
       "      <td>actm100mvh</td>\n",
       "      <td>DQvQCSFZrx</td>\n",
       "      <td>Índice de accidentalidad, 2020</td>\n",
       "    </tr>\n",
       "    <tr>\n",
       "      <th>62</th>\n",
       "      <td>11</td>\n",
       "      <td>True</td>\n",
       "      <td>3872</td>\n",
       "      <td>Índice de mortalidad, 2021</td>\n",
       "      <td>00_ent_accidentesyvehiculos_inegi_2021</td>\n",
       "      <td>actm100mvh</td>\n",
       "      <td>VdfbcYRIad</td>\n",
       "      <td>Índice de accidentalidad, 2021</td>\n",
       "    </tr>\n",
       "  </tbody>\n",
       "</table>\n",
       "<p>890 rows × 8 columns</p>\n",
       "</div>"
      ]
     },
     "execution_count": 132,
     "metadata": {},
     "output_type": "execute_result"
    }
   ],
   "execution_count": 132
  }
 ],
 "metadata": {
  "kernelspec": {
   "display_name": "Python 3",
   "language": "python",
   "name": "python3"
  },
  "language_info": {
   "codemirror_mode": {
    "name": "ipython",
    "version": 2
   },
   "file_extension": ".py",
   "mimetype": "text/x-python",
   "name": "python",
   "nbconvert_exporter": "python",
   "pygments_lexer": "ipython2",
   "version": "2.7.6"
  }
 },
 "nbformat": 4,
 "nbformat_minor": 5
}
