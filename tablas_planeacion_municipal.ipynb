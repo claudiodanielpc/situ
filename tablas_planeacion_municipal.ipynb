{
 "cells": [
  {
   "cell_type": "code",
   "id": "initial_id",
   "metadata": {
    "collapsed": true,
    "ExecuteTime": {
     "end_time": "2024-12-17T00:01:15.382466Z",
     "start_time": "2024-12-17T00:01:15.379578Z"
    }
   },
   "source": [
    "import pandas as pd\n",
    "import requests"
   ],
   "outputs": [],
   "execution_count": 82
  },
  {
   "metadata": {
    "ExecuteTime": {
     "end_time": "2024-12-17T00:01:15.393638Z",
     "start_time": "2024-12-17T00:01:15.389508Z"
    }
   },
   "cell_type": "code",
   "source": [
    "#Identificación de tablas en la página\n",
    "urls = {\n",
    "    #Población por sexo y rangos de edad. Pirámide poblacional\n",
    "    \"edades\": \"https://situ.sedatu.gob.mx/wa/publico/consCatalogada01?columnas=C10ETARMUN_003&columnas=C10ETARMUN_004&columnas=C10ETARMUN_005&columnas=C10ETARMUN_006&columnas=C10ETARMUN_007&columnas=C10ETARMUN_008&columnas=C10ETARMUN_009&columnas=C10ETARMUN_010&columnas=C10ETARMUN_011&columnas=C10ETARMUN_012&columnas=C10ETARMUN_013&columnas=C10ETARMUN_014&columnas=C10ETARMUN_015&columnas=C10ETARMUN_016&columnas=C10ETARMUN_017&columnas=C10ETARMUN_018&columnas=C10ETARMUN_019&columnas=C10ETARMUN_020&columnas=C10ETARMUN_021&etiqueta_funcional=C10ETARMUN_&nombreFiltro=C10ETARMUN_001&valorFiltro=01002\",\n",
    "    #Población por sexo y edad. Proporción\n",
    "    \"edadesex\": \"https://situ.sedatu.gob.mx/wa/publico/consCatalogada01?columnas=INGPOBMUNSEXO_005&columnas=INGPOBMUNSEXO_006&columnas=INGPOBMUNSEXO_007&etiqueta_funcional=INGPOBMUNSEXO_&nombreFiltro=INGPOBMUNSEXO_001&valorFiltro=01002\",\n",
    "    #Distribución por lugar de nacimiento\n",
    "    \"lugarnac\": \"https://situ.sedatu.gob.mx/wa/publico/consCatalogada01?columnas=INGLUGNACIMUN_006&columnas=INGLUGNACIMUN_007&columnas=INGLUGNACIMUN_008&columnas=INGLUGNACIMUN_009&columnas=INGLUGNACIMUN_010&etiqueta_funcional=INGLUGNACIMUN_&nombreFiltro=INGLUGNACIMUN_001&valorFiltro=01002\",\n",
    "    #Productores beneficiados por PROCAMPO\n",
    "    \"valprodagro\": \"https://situ.sedatu.gob.mx/wa/publico/consCatalogada01?columnas=PROAGRIMUN_025&columnas=PROAGRIMUN_026&columnas=PROAGRIMUN_027&columnas=PROAGRIMUN_028&columnas=PROAGRIMUN_029&columnas=PROAGRIMUN_030&columnas=PROAGRIMUN_031&columnas=PROAGRIMUN_032&etiqueta_funcional=PROAGRIMUN_&nombreFiltro=PROAGRIMUN_034&valorFiltro=01002&cadenaFiltros=@PROAGRIMUN_007%20=%20%27Productores%20beneficiados%20por%20el%20PROCAMPO%27\",\n",
    "    #Datos generales del Censo de Población y Vivienda 2020. Consulta al ITER: https://www.inegi.org.mx/programas/ccpv/2020/#microdatos \n",
    "    \"iter_censo\": \"https://situ.sedatu.gob.mx/wa/publico/consCatalogada01?columnas=ITERCENSOMUN_013&columnas=ITERCENSOMUN_014&columnas=ITERCENSOMUN_015&columnas=ITERCENSOMUN_123&columnas=ITERCENSOMUN_124&columnas=ITERCENSOMUN_125&columnas=ITERCENSOMUN_126&columnas=ITERCENSOMUN_127&columnas=ITERCENSOMUN_128&columnas=ITERCENSOMUN_129&columnas=ITERCENSOMUN_130&columnas=ITERCENSOMUN_131&columnas=ITERCENSOMUN_144&columnas=ITERCENSOMUN_145&columnas=ITERCENSOMUN_146&columnas=ITERCENSOMUN_147&columnas=ITERCENSOMUN_148&columnas=ITERCENSOMUN_149&columnas=ITERCENSOMUN_176&columnas=ITERCENSOMUN_179&columnas=ITERCENSOMUN_182&columnas=ITERCENSOMUN_183&columnas=ITERCENSOMUN_184&columnas=ITERCENSOMUN_186&etiqueta_funcional=ITERCENSOMUN_&nombreFiltro=ITERCENSOMUN_005&valorFiltro=01002\",\n",
    "    #Datos igualmente del censo de población y vivienda 2020 pero con la consulta al SCINCE: https://gaia.inegi.org.mx/scince2020/\n",
    "    \"scince_censo\": \"https://situ.sedatu.gob.mx/wa/publico/consCatalogada01?columnas=SCINCEMUN20_002&columnas=SCINCEMUN20_013&columnas=SCINCEMUN20_021&columnas=SCINCEMUN20_043&columnas=SCINCEMUN20_187&columnas=SCINCEMUN20_191&columnas=SCINCEMUN20_193&columnas=SCINCEMUN20_195&columnas=SCINCEMUN20_197&columnas=SCINCEMUN20_199&columnas=SCINCEMUN20_201&columnas=SCINCEMUN20_203&columnas=SCINCEMUN20_205&columnas=SCINCEMUN20_207&columnas=SCINCEMUN20_209&columnas=SCINCEMUN20_211&columnas=SCINCEMUN20_189&columnas=SCINCEMUN20_213&columnas=SCINCEMUN20_215&columnas=SCINCEMUN20_217&columnas=SCINCEMUN20_219&columnas=SCINCEMUN20_221&columnas=SCINCEMUN20_223&columnas=SCINCEMUN20_225&columnas=SCINCEMUN20_227&columnas=SCINCEMUN20_229&columnas=SCINCEMUN20_231&columnas=SCINCEMUN20_233&columnas=SCINCEMUN20_235&columnas=SCINCEMUN20_237&columnas=SCINCEMUN20_239&columnas=SCINCEMUN20_241&columnas=SCINCEMUN20_243&columnas=SCINCEMUN20_245&columnas=SCINCEMUN20_247&columnas=SCINCEMUN20_249&columnas=SCINCEMUN20_251&columnas=SCINCEMUN20_253&columnas=SCINCEMUN20_255&columnas=SCINCEMUN20_257&etiqueta_funcional=SCINCEMUN20_&nombreFiltro=SCINCEMUN20_806&valorFiltro=01002\"\n",
    "}"
   ],
   "id": "9eb74d444bef90a7",
   "outputs": [],
   "execution_count": 83
  },
  {
   "metadata": {
    "ExecuteTime": {
     "end_time": "2024-12-17T00:01:48.513597Z",
     "start_time": "2024-12-17T00:01:48.252851Z"
    }
   },
   "cell_type": "code",
   "source": [
    "# Lista vacía para almacenar los dataframes\n",
    "dataframes = []\n",
    "\n",
    "# Requests a las URLs\n",
    "for key, url in urls.items():\n",
    "    response = requests.get(url)\n",
    "    \n",
    "    \n",
    "    if response.status_code == 200:\n",
    "        json_data = response.json()\n",
    "        \n",
    "        \n",
    "        if \"nombre_tabla\" in json_data:\n",
    "            table_data = json_data[\"nombre_tabla\"] \n",
    "            \n",
    "            dataframes.append(table_data)\n",
    "\n",
    "\n",
    "tabla=pd.DataFrame(dataframes)\n",
    "print(\"Tablas a las que se hace referencia para llenar la sección de planeación municipal\")\n",
    "tabla"
   ],
   "id": "e59ca37060940751",
   "outputs": [
    {
     "name": "stdout",
     "output_type": "stream",
     "text": [
      "Tablas a las que se hace referencia para llenar la sección de planeación municipal\n"
     ]
    },
    {
     "data": {
      "text/plain": [
       "                                0\n",
       "0             distribucion_edades\n",
       "1               tb_poblacion_sexo\n",
       "2             tb_lugar_nacimiento\n",
       "3         tb_valprod_agricola_mun\n",
       "4           tb_iter_censo2020_mun\n",
       "5  tb_dd_00_scince_mun_inegi_2020"
      ],
      "text/html": [
       "<div>\n",
       "<style scoped>\n",
       "    .dataframe tbody tr th:only-of-type {\n",
       "        vertical-align: middle;\n",
       "    }\n",
       "\n",
       "    .dataframe tbody tr th {\n",
       "        vertical-align: top;\n",
       "    }\n",
       "\n",
       "    .dataframe thead th {\n",
       "        text-align: right;\n",
       "    }\n",
       "</style>\n",
       "<table border=\"1\" class=\"dataframe\">\n",
       "  <thead>\n",
       "    <tr style=\"text-align: right;\">\n",
       "      <th></th>\n",
       "      <th>0</th>\n",
       "    </tr>\n",
       "  </thead>\n",
       "  <tbody>\n",
       "    <tr>\n",
       "      <th>0</th>\n",
       "      <td>distribucion_edades</td>\n",
       "    </tr>\n",
       "    <tr>\n",
       "      <th>1</th>\n",
       "      <td>tb_poblacion_sexo</td>\n",
       "    </tr>\n",
       "    <tr>\n",
       "      <th>2</th>\n",
       "      <td>tb_lugar_nacimiento</td>\n",
       "    </tr>\n",
       "    <tr>\n",
       "      <th>3</th>\n",
       "      <td>tb_valprod_agricola_mun</td>\n",
       "    </tr>\n",
       "    <tr>\n",
       "      <th>4</th>\n",
       "      <td>tb_iter_censo2020_mun</td>\n",
       "    </tr>\n",
       "    <tr>\n",
       "      <th>5</th>\n",
       "      <td>tb_dd_00_scince_mun_inegi_2020</td>\n",
       "    </tr>\n",
       "  </tbody>\n",
       "</table>\n",
       "</div>"
      ]
     },
     "execution_count": 86,
     "metadata": {},
     "output_type": "execute_result"
    }
   ],
   "execution_count": 86
  }
 ],
 "metadata": {
  "kernelspec": {
   "display_name": "Python 3",
   "language": "python",
   "name": "python3"
  },
  "language_info": {
   "codemirror_mode": {
    "name": "ipython",
    "version": 2
   },
   "file_extension": ".py",
   "mimetype": "text/x-python",
   "name": "python",
   "nbconvert_exporter": "python",
   "pygments_lexer": "ipython2",
   "version": "2.7.6"
  }
 },
 "nbformat": 4,
 "nbformat_minor": 5
}
